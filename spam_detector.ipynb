{
 "cells": [
  {
   "cell_type": "markdown",
   "id": "8d2635f2",
   "metadata": {},
   "source": [
    "Spam Detector Using Machine Learning"
   ]
  },
  {
   "cell_type": "code",
   "execution_count": 6,
   "id": "4379a0e4",
   "metadata": {},
   "outputs": [],
   "source": [
    "import tarfile\n",
    "from urllib import request\n",
    "from pathlib import Path\n",
    "\n",
    "def fetch_spam_data():\n",
    "    spam_root = \"http://spamassassin.apache.org/old/publiccorpus/\"\n",
    "    ham_url = spam_root + \"20030228_easy_ham.tar.bz2\"\n",
    "    spam_url = spam_root + \"20030228_spam.tar.bz2\"\n",
    "\n",
    "    spam_path = Path() / \"datasets\" / \"spam\"\n",
    "    spam_path.mkdir(parents=True, exist_ok=True)\n",
    "    for dir_name, tar_name, url in ((\"easy_ham\", \"ham\", ham_url),\n",
    "                                    (\"spam\", \"spam\", spam_url)):\n",
    "        if not (spam_path / dir_name).is_dir():\n",
    "            path = (spam_path / tar_name).with_suffix(\".tar.bz2\")\n",
    "            print(\"Downloading\", path)\n",
    "            request.urlretrieve(url, path)\n",
    "            tar_bz2_file = tarfile.open(path)\n",
    "            tar_bz2_file.extractall(path=spam_path)\n",
    "            tar_bz2_file.close()\n",
    "    return [spam_path / dir_name for dir_name in (\"easy_ham\", \"spam\")]"
   ]
  },
  {
   "cell_type": "code",
   "execution_count": 7,
   "id": "3e5f886b",
   "metadata": {},
   "outputs": [
    {
     "name": "stdout",
     "output_type": "stream",
     "text": [
      "Downloading datasets\\spam\\ham.tar.bz2\n",
      "Downloading datasets\\spam\\spam.tar.bz2\n"
     ]
    }
   ],
   "source": [
    "ham_dir, spam_dir = fetch_spam_data()"
   ]
  },
  {
   "cell_type": "code",
   "execution_count": 8,
   "id": "9d421844",
   "metadata": {},
   "outputs": [],
   "source": [
    "ham_filename = [ f for f in sorted(ham_dir.iterdir()) if len(f.name) > 20]\n",
    "spam_filename = [ f for f in sorted(spam_dir.iterdir()) if len(f.name) > 20]"
   ]
  },
  {
   "cell_type": "code",
   "execution_count": 9,
   "id": "729cc793",
   "metadata": {},
   "outputs": [
    {
     "data": {
      "text/plain": [
       "2500"
      ]
     },
     "execution_count": 9,
     "metadata": {},
     "output_type": "execute_result"
    }
   ],
   "source": [
    "len(ham_filename)"
   ]
  },
  {
   "cell_type": "code",
   "execution_count": 10,
   "id": "a99dbfa3",
   "metadata": {},
   "outputs": [
    {
     "data": {
      "text/plain": [
       "500"
      ]
     },
     "execution_count": 10,
     "metadata": {},
     "output_type": "execute_result"
    }
   ],
   "source": [
    "len(spam_filename)"
   ]
  },
  {
   "cell_type": "code",
   "execution_count": 12,
   "id": "9d8cae87",
   "metadata": {},
   "outputs": [],
   "source": [
    "import email\n",
    "import email.policy\n",
    "\n",
    "def load_email(filepath):\n",
    "    with open(filepath, 'rb') as file:\n",
    "        return email.parser.BytesParser(policy=email.policy.default).parse(file)"
   ]
  },
  {
   "cell_type": "code",
   "execution_count": 13,
   "id": "8a981af4",
   "metadata": {},
   "outputs": [],
   "source": [
    "ham_email = [load_email(filepath) for filepath in ham_filename]\n",
    "spam_email = [load_email(filepath) for filepath in spam_filename]"
   ]
  },
  {
   "cell_type": "code",
   "execution_count": 14,
   "id": "59449147",
   "metadata": {},
   "outputs": [
    {
     "name": "stdout",
     "output_type": "stream",
     "text": [
      "Martin A posted:\n",
      "Tassos Papadopoulos, the Greek sculptor behind the plan, judged that the\n",
      " limestone of Mount Kerdylio, 70 miles east of Salonika and not far from the\n",
      " Mount Athos monastic community, was ideal for the patriotic sculpture. \n",
      " \n",
      " As well as Alexander's granite features, 240 ft high and 170 ft wide, a\n",
      " museum, a restored amphitheatre and car park for admiring crowds are\n",
      "planned\n",
      "---------------------\n",
      "So is this mountain limestone or granite?\n",
      "If it's limestone, it'll weather pretty fast.\n",
      "\n",
      "------------------------ Yahoo! Groups Sponsor ---------------------~-->\n",
      "4 DVDs Free +s&p Join Now\n",
      "http://us.click.yahoo.com/pt6YBB/NXiEAA/mG3HAA/7gSolB/TM\n",
      "---------------------------------------------------------------------~->\n",
      "\n",
      "To unsubscribe from this group, send an email to:\n",
      "forteana-unsubscribe@egroups.com\n",
      "\n",
      " \n",
      "\n",
      "Your use of Yahoo! Groups is subject to http://docs.yahoo.com/info/terms/\n"
     ]
    }
   ],
   "source": [
    "print(ham_email[1].get_content().strip())"
   ]
  },
  {
   "cell_type": "code",
   "execution_count": 36,
   "id": "c2230eae",
   "metadata": {},
   "outputs": [
    {
     "name": "stdout",
     "output_type": "stream",
     "text": [
      "Market Internet Access \n",
      "\n",
      "No Investment Needed \n",
      "\n",
      "Premium Internet Access for only $14.95 per month or less! \n",
      "\n",
      "Earn $1 per Subscriber per month\n",
      "\n",
      "Go To:\n",
      "\n",
      "http://new.isp.50megs.com/\n",
      "3442BvLB9-565fAFx0200Lbck9-698onqh7l33\n"
     ]
    }
   ],
   "source": [
    "print(spam_email[63].get_content().strip())"
   ]
  },
  {
   "cell_type": "code",
   "execution_count": 18,
   "id": "c3e84879",
   "metadata": {},
   "outputs": [],
   "source": [
    "def get_email_structure(email):\n",
    "    if isinstance(email, str):\n",
    "        return email\n",
    "    payload = email.get_payload()\n",
    "    if isinstance(payload, list):\n",
    "        mulitpart = \", \".join([get_email_structure(sub_email) for sub_email in payload])\n",
    "        return f\"multipart({mulitpart})\"\n",
    "    else:\n",
    "        return email.get_content_type()"
   ]
  },
  {
   "cell_type": "code",
   "execution_count": 25,
   "id": "8b532a0d",
   "metadata": {},
   "outputs": [],
   "source": [
    "from collections import Counter\n",
    "\n",
    "def structure_counter(emails):\n",
    "    structures = Counter()\n",
    "    for email in emails:\n",
    "        structure = get_email_structure(email)\n",
    "        structures[structure] +=1\n",
    "    return structures"
   ]
  },
  {
   "cell_type": "code",
   "execution_count": 26,
   "id": "e491804e",
   "metadata": {},
   "outputs": [
    {
     "data": {
      "text/plain": [
       "[('text/plain', 2408),\n",
       " ('multipart(text/plain, application/pgp-signature)', 66),\n",
       " ('multipart(text/plain, text/html)', 8),\n",
       " ('multipart(text/plain, text/plain)', 4),\n",
       " ('multipart(text/plain)', 3),\n",
       " ('multipart(text/plain, application/octet-stream)', 2),\n",
       " ('multipart(text/plain, text/enriched)', 1),\n",
       " ('multipart(text/plain, application/ms-tnef, text/plain)', 1),\n",
       " ('multipart(multipart(text/plain, text/plain, text/plain), application/pgp-signature)',\n",
       "  1),\n",
       " ('multipart(text/plain, video/mng)', 1),\n",
       " ('multipart(text/plain, multipart(text/plain))', 1),\n",
       " ('multipart(text/plain, application/x-pkcs7-signature)', 1),\n",
       " ('multipart(text/plain, multipart(text/plain, text/plain), text/rfc822-headers)',\n",
       "  1),\n",
       " ('multipart(text/plain, multipart(text/plain, text/plain), multipart(multipart(text/plain, application/x-pkcs7-signature)))',\n",
       "  1),\n",
       " ('multipart(text/plain, application/x-java-applet)', 1)]"
      ]
     },
     "execution_count": 26,
     "metadata": {},
     "output_type": "execute_result"
    }
   ],
   "source": [
    "structure_counter(ham_email).most_common()"
   ]
  },
  {
   "cell_type": "code",
   "execution_count": 27,
   "id": "39bb43b3",
   "metadata": {},
   "outputs": [
    {
     "data": {
      "text/plain": [
       "[('text/plain', 218),\n",
       " ('text/html', 183),\n",
       " ('multipart(text/plain, text/html)', 45),\n",
       " ('multipart(text/html)', 20),\n",
       " ('multipart(text/plain)', 19),\n",
       " ('multipart(multipart(text/html))', 5),\n",
       " ('multipart(text/plain, image/jpeg)', 3),\n",
       " ('multipart(text/html, application/octet-stream)', 2),\n",
       " ('multipart(text/plain, application/octet-stream)', 1),\n",
       " ('multipart(text/html, text/plain)', 1),\n",
       " ('multipart(multipart(text/html), application/octet-stream, image/jpeg)', 1),\n",
       " ('multipart(multipart(text/plain, text/html), image/gif)', 1),\n",
       " ('multipart/alternative', 1)]"
      ]
     },
     "execution_count": 27,
     "metadata": {},
     "output_type": "execute_result"
    }
   ],
   "source": [
    "structure_counter(spam_email).most_common()"
   ]
  },
  {
   "cell_type": "code",
   "execution_count": 32,
   "id": "3258df33",
   "metadata": {},
   "outputs": [
    {
     "name": "stdout",
     "output_type": "stream",
     "text": [
      "Return-Path : <cmolano@hotmail.com>\n",
      "Delivered-To : zzzz@localhost.spamassassin.taint.org\n",
      "Received : from localhost (localhost [127.0.0.1])\tby phobos.labs.spamassassin.taint.org (Postfix) with ESMTP id 5F24F43F99\tfor <zzzz@localhost>; Tue, 27 Aug 2002 08:12:45 -0400 (EDT)\n",
      "Received : from phobos [127.0.0.1]\tby localhost with IMAP (fetchmail-5.9.0)\tfor zzzz@localhost (single-drop); Tue, 27 Aug 2002 13:12:45 +0100 (IST)\n",
      "Received : from jim.hradac.com (hradac.com [66.136.141.249]) by    dogma.slashnull.org (8.11.6/8.11.6) with ESMTP id g7RC2cZ06577 for    <webmaster@efi.ie>; Tue, 27 Aug 2002 13:03:51 +0100\n",
      "Received : from masqueradingv.bb ([200.251.234.66]) by jim.hradac.com with    Microsoft SMTPSVC(5.0.2195.4905); Sun, 25 Aug 2002 12:46:46 -0500\n",
      "Message-Id : <000062bb38f3$000039c3$00007cde@mammothweather.com>\n",
      "To : wjicwpw@jbyv.fi, petter.sundblad@mbox300.swipnet.se, sherriej@toile.qc.ca, rocky@midwest.com.cn\n",
      "Cc : joey@xenios.qldnet.com.au, tommylee@chello.at, webmaster@efi.ie, f5mag@hol.fr\n",
      "From : cmolano@hotmail.com\n",
      "Subject : DON'T LET A COMPUTER VIRUS RUIN YOUR DAY!          12879\n",
      "Date : Sun, 25 Aug 2002 13:50:11 -1600\n",
      "MIME-Version : 1.0\n",
      "Reply-To : cmolano@hotmail.com\n",
      "X-Originalarrivaltime : 25 Aug 2002 17:46:48.0328 (UTC) FILETIME=[62D14080:01C24C5F]\n",
      "Content-Type : text/html; charset=\"iso-8859-1\"\n",
      "Content-Transfer-Encoding : quoted-printable\n"
     ]
    }
   ],
   "source": [
    "for header, value in spam_email[120].items():\n",
    "    print(header, ':', value)"
   ]
  },
  {
   "cell_type": "code",
   "execution_count": 30,
   "id": "6c03f9cd",
   "metadata": {},
   "outputs": [
    {
     "data": {
      "text/plain": [
       "\"DON'T LET A COMPUTER VIRUS RUIN YOUR DAY!          12879\""
      ]
     },
     "execution_count": 30,
     "metadata": {},
     "output_type": "execute_result"
    }
   ],
   "source": [
    "spam_email[120]['Subject']"
   ]
  },
  {
   "cell_type": "code",
   "execution_count": 37,
   "id": "64ed7535",
   "metadata": {},
   "outputs": [],
   "source": [
    "import numpy as np\n",
    "from sklearn.model_selection import train_test_split\n",
    "\n",
    "X = np.array(ham_email + spam_email, dtype=object)\n",
    "y = np.array([0] * len(ham_email) + [1] * len(spam_email))\n",
    "\n",
    "X_train, X_test, y_train, y_test = train_test_split(\n",
    "    X, y, test_size=0.2, random_state=42\n",
    ")"
   ]
  },
  {
   "cell_type": "code",
   "execution_count": null,
   "id": "06f9738f",
   "metadata": {},
   "outputs": [],
   "source": []
  }
 ],
 "metadata": {
  "kernelspec": {
   "display_name": "venv",
   "language": "python",
   "name": "python3"
  },
  "language_info": {
   "codemirror_mode": {
    "name": "ipython",
    "version": 3
   },
   "file_extension": ".py",
   "mimetype": "text/x-python",
   "name": "python",
   "nbconvert_exporter": "python",
   "pygments_lexer": "ipython3",
   "version": "3.11.4"
  }
 },
 "nbformat": 4,
 "nbformat_minor": 5
}
